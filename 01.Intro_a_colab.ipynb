{
  "cells": [
    {
      "attachments": {},
      "cell_type": "markdown",
      "metadata": {
        "id": "VZpWDT_qK5mE"
      },
      "source": [
        "# Módulo 1: Introducción a Google Colaboratory\n",
        "\n",
        "¡Bienvenido al curso! Hay algunas instrucciones muy importantes que debe seguir si desea guardar una copia de este módulo en su cuenta de Google Drive:\n",
        "\n",
        "1.) Haga clic en \"Archivo\" en la esquina superior izquierda y seleccione \"Guardar una copia en Drive\"\n",
        "\n",
        "\n",
        "2.) Haga clic en el nombre del notebook en la esquina superior izquierda y reemplace por el nombre que desee.\n",
        "\n",
        "**Sus cambios no se guardarán si no realiza este paso.**\n",
        "\n",
        "Tenga en cuenta que el peso total de TODOS los módulos una vez completados es de: \n"
      ]
    },
    {
      "cell_type": "markdown",
      "metadata": {},
      "source": [
        "___"
      ]
    },
    {
      "attachments": {},
      "cell_type": "markdown",
      "metadata": {
        "id": "HkAHdwWUJKoZ"
      },
      "source": [
        "## Para iniciar\n",
        "\n",
        "Por favor, escriba: `print(\"Sí, he completado el paso 1\")` en el bloque de código a continuación, luego ejecútelo haciendo clic en el icono \"triángulo\"/\"Reproducir\" en ese bloque. \n"
      ]
    },
    {
      "cell_type": "code",
      "execution_count": 1,
      "metadata": {
        "id": "lza1ngCWKHbX"
      },
      "outputs": [],
      "source": [
        "#Bloque"
      ]
    },
    {
      "cell_type": "markdown",
      "metadata": {},
      "source": [
        "Deberá obtener el siguiente resultado:\n",
        "\n",
        "![Intro1](./images/intro1.png)"
      ]
    },
    {
      "attachments": {},
      "cell_type": "markdown",
      "metadata": {
        "id": "l166Rx0ZKLqh"
      },
      "source": [
        "Por favor, escriba: `print(\"Sí, he completado el paso 2\")` en el bloque de código a continuación, luego ejecútelo haciendo clic en el icono \"triángulo\"/\"Reproducir\" en ese bloque.  "
      ]
    },
    {
      "cell_type": "code",
      "execution_count": 2,
      "metadata": {
        "id": "nsufot4fKS01"
      },
      "outputs": [],
      "source": [
        "#Bloque"
      ]
    },
    {
      "cell_type": "markdown",
      "metadata": {},
      "source": [
        "Deberá obtener el siguiente resultado:\n",
        "\n",
        "![Intro](./images//intro2.png)"
      ]
    },
    {
      "attachments": {},
      "cell_type": "markdown",
      "metadata": {
        "id": "G7mk1VecOHLQ"
      },
      "source": [
        "# Instalando Conda\n",
        "\n",
        "[Conda](https://github.com/conda/conda) es una herramienta de gestión de software versátil ya que es un sistema de código abierto para gestionar herramientas y bibliotecas.\n",
        "\n",
        "Conda permite crear entornos virtuales con diferentes versiones de Python y paquetes. Esto es útil si estás trabajando en proyectos que requieren versiones específicas de bibliotecas o si necesitas mantener entornos separados para diferentes proyectos. Conda facilita la instalación de paquetes de Python y otros paquetes científicos. Además de esto, permite instalar fácilmente paquetes desde el repositorio de Conda o desde otros canales, lo que puede ser más conveniente que usar herramientas como [pip](https://pypi.org/project/pip/) en algunos casos.\n",
        "\n",
        "- Más información sobre la biblioteca utilizada para instalar Conda en Google Colab está en este [website](https://inside-machinelearning.com/en/how-to-install-use-conda-on-google-colab/)\n",
        "\n",
        "- Puede revisar este repositorio para ver cómo funciona esta herramienta: https://github.com/conda-incubator/condacolab \n",
        "\n",
        " \n",
        "### !Importante!: Recuerde que necesitará instalar Conda cada vez que abra un nuevo cuaderno, incluso si lo ha guardado en su cuenta de Google Drive. Tenga en cuenta que Conda se desactivará automáticamente al cerrar un cuaderno.\n",
        "\n",
        "\n",
        "**Nota: el entorno de ejecución se actualizará y volverá a conectar después de ejecutar esto. Puede que aparezca un mensaje de \"entorno de ejecución fallido\", esto es normal, espere a que la sesión se vuelva a conectar después de esto.**"
      ]
    },
    {
      "cell_type": "code",
      "execution_count": null,
      "metadata": {
        "id": "jOTBUZ3gOFm3"
      },
      "outputs": [],
      "source": [
        "#Instalar conda\n",
        "\n",
        "!pip install -q condacolab\n",
        "import condacolab\n",
        "condacolab.install()"
      ]
    },
    {
      "cell_type": "markdown",
      "metadata": {},
      "source": [
        "Deberá obtener el siguiente resultado:\n",
        "\n",
        "![Intro](./images/intro3.png)\n",
        "\n",
        "Si ejecuta de nuevo este bloque deberá obtener el siguiente resultado:\n",
        "\n",
        "![Intro](images/intro4.png)"
      ]
    },
    {
      "attachments": {},
      "cell_type": "markdown",
      "metadata": {
        "id": "SneaO7ArlUMU"
      },
      "source": [
        "# Practique algunos comandos en BASH o Python\n",
        "\n",
        "Este curso usará principalmente BASH; verifique poner el caracter `!` al inicio del comando que desee ejecutar"
      ]
    },
    {
      "cell_type": "code",
      "execution_count": null,
      "metadata": {
        "id": "i6Wk6e6klSnh"
      },
      "outputs": [],
      "source": [
        "#Bash es genial, no olvides el !\n",
        "!echo \"hello world\""
      ]
    },
    {
      "cell_type": "code",
      "execution_count": null,
      "metadata": {
        "id": "EX47x3Iilmm2"
      },
      "outputs": [],
      "source": [
        "#Python el predeterminado \n",
        "print(\"Hello World\")"
      ]
    },
    {
      "cell_type": "markdown",
      "metadata": {
        "id": "Fry1n5nVl0XF"
      },
      "source": [
        "# Intente utilizar el administrador de archivos con el icono de carpeta del lado izquierdo:\n",
        "\n",
        "Intente crear una carpeta nueva o un archivo haciendo clic derecho en el espacio de \"Archivo\" a la izquierda de la pantalla como se observa a continuación:\n",
        "\n",
        "![Intro](images/intro5.png)"
      ]
    },
    {
      "cell_type": "markdown",
      "metadata": {},
      "source": [
        "Ahora cree una nueva carpeta utilizando comandos BASH:"
      ]
    },
    {
      "cell_type": "code",
      "execution_count": null,
      "metadata": {
        "id": "OJHDGLHllzk8"
      },
      "outputs": [],
      "source": [
        "#hacer una carpeta con un comando\n",
        "!mkdir new_folder"
      ]
    },
    {
      "cell_type": "markdown",
      "metadata": {},
      "source": [
        "Actualice el espacio de Archivo al lado izquiero de la pantalla y observará la carpeta creada:\n",
        "\n",
        "![col](images/colab31.png)"
      ]
    },
    {
      "cell_type": "markdown",
      "metadata": {
        "id": "RTxjogMxmMy1"
      },
      "source": [
        "# ¿Tengo espacio de almacenamiento para siempre?\n",
        "Ejecute el comando a continuación:"
      ]
    },
    {
      "cell_type": "code",
      "execution_count": null,
      "metadata": {
        "id": "TBEXoPdxmLyO"
      },
      "outputs": [],
      "source": [
        "!echo \"tristemente no...\"; sleep 5; echo \"lo tiene solo por 12 horas al día\""
      ]
    },
    {
      "cell_type": "markdown",
      "metadata": {
        "id": "-qtzGaOBnKU3"
      },
      "source": [
        "# Entonces, ¿cómo guardar trabajos o resultados importantes?\n",
        "\n",
        "El notebook se guardará automáticamente si ha realizado los dos primeros pasos. Luego puede repetir todo el trabajo haciendo clic en las celdas o ejecutando todo.\n",
        "\n",
        "¡Los datos se pueden descargar a su computadora local!\n",
        "\n",
        "También puede vincular su cuenta de Google Drive para mover archivos allí."
      ]
    },
    {
      "cell_type": "markdown",
      "metadata": {
        "id": "Vyv7uvXhoRou"
      },
      "source": [
        "# Recuerde siempre:\n",
        "(Ejecute la celda a continuación para un recordatorio)"
      ]
    },
    {
      "cell_type": "code",
      "execution_count": null,
      "metadata": {
        "id": "5iQVAGcQn0dC"
      },
      "outputs": [],
      "source": [
        "# Recuerde siempre :\n",
        "!echo \"Guardar el notebook\"; sleep 2; echo \"probar cosas nuevas\"; sleep 2; echo \"aprender a medida que avanza\"; sleep 2; echo \"¡y divertirse!\""
      ]
    }
  ],
  "metadata": {
    "colab": {
      "collapsed_sections": [],
      "provenance": []
    },
    "kernelspec": {
      "display_name": "Python 3",
      "language": "python",
      "name": "python3"
    },
    "language_info": {
      "codemirror_mode": {
        "name": "ipython",
        "version": 3
      },
      "file_extension": ".py",
      "mimetype": "text/x-python",
      "name": "python",
      "nbconvert_exporter": "python",
      "pygments_lexer": "ipython3",
      "version": "3.10.12"
    },
    "vscode": {
      "interpreter": {
        "hash": "916dbcbb3f70747c44a77c7bcd40155683ae19c65e1c03b4aa3499c5328201f1"
      }
    }
  },
  "nbformat": 4,
  "nbformat_minor": 0
}
