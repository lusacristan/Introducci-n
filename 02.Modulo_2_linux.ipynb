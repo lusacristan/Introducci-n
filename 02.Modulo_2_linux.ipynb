{
  "cells": [
    {
      "cell_type": "markdown",
      "metadata": {
        "id": "VZpWDT_qK5mE"
      },
      "source": [
        "# Módulo 2: Introducción a Notebooks y Unix/Linux\n",
        "\n",
        "¡Bienvenido al curso! Hay algunas instrucciones muy importantes que debe seguir si desea guardar una copia de este módulo en su cuenta de Google Drive:\n",
        "\n",
        "1.) Haga clic en \"Archivo\" en la esquina superior izquierda y seleccione \"Guardar una copia en Drive\"\n",
        "\n",
        "\n",
        "2.) Haga clic en el nombre del notebook en la esquina superior izquierda y reemplace por el nombre que desee.\n",
        "\n",
        "**Sus cambios no se guardarán si no realiza este paso.**\n",
        "\n",
        "Tenga en cuenta que el peso total de TODOS los módulos una vez completados es de: "
      ]
    },
    {
      "cell_type": "markdown",
      "metadata": {},
      "source": [
        "___"
      ]
    },
    {
      "cell_type": "markdown",
      "metadata": {},
      "source": [
        "Antes de iniciar este módulo le recomendamos ver los videos de esta playlist: https://www.youtube.com/playlist?list=PLfovZnX0TvKtHq6Q4L5KdW332NCD4GbtU"
      ]
    },
    {
      "cell_type": "markdown",
      "metadata": {
        "id": "HkAHdwWUJKoZ"
      },
      "source": [
        "Por favor escriba:\n",
        "```\n",
        "print(\"Si, he hecho el paso 1\") \n",
        "```\n",
        "en el bloque de código a continuación, luego ejecute haciendo clic en el icono \"Triángulo\"/\"Play\" en ese bloque"
      ]
    },
    {
      "cell_type": "code",
      "execution_count": null,
      "metadata": {
        "id": "lza1ngCWKHbX"
      },
      "outputs": [],
      "source": [
        "# Bloque"
      ]
    },
    {
      "cell_type": "markdown",
      "metadata": {
        "id": "l166Rx0ZKLqh"
      },
      "source": [
        "Por favor escriba:\n",
        "```\n",
        "print(\"Sí, he completado el paso 2\") \n",
        "```\n",
        "en el bloque de código a continuación, luego ejecute haciendo clic en el icono \"Triángulo\"/\"Play\" en ese bloque"
      ]
    },
    {
      "cell_type": "code",
      "execution_count": null,
      "metadata": {
        "id": "nsufot4fKS01"
      },
      "outputs": [],
      "source": [
        "# Bloque"
      ]
    },
    {
      "cell_type": "markdown",
      "metadata": {
        "id": "G7mk1VecOHLQ"
      },
      "source": [
        "## Instando Conda\n",
        "Conda es una herramienta de gestión de software versátil. Conda es un sistema de código abierto para gestionar herramientas y bibliotecas. Más información sobre la biblioteca utilizada para instalar Conda en Google Colab está en este [website](https://inside-machinelearning.com/en/how-to-install-use-conda-on-google-colab/)\n",
        "\n",
        "> Nota: el entorno de ejecución se actualizará y volverá a conectar después de ejecutar esto. Puede que aparezca un mensaje de \"entorno de ejecución fallido\", esto es normal, espere a que la sesión se vuelva a conectar después de esto.\n",
        "\n",
        "Puede revisar este repositorio para ver cómo funciona esta herramienta:\n",
        "https://github.com/conda-incubator/condacolab \n"
      ]
    },
    {
      "cell_type": "code",
      "execution_count": null,
      "metadata": {
        "id": "jOTBUZ3gOFm3"
      },
      "outputs": [],
      "source": [
        "!pip install -q condacolab\n",
        "import condacolab\n",
        "condacolab.install()"
      ]
    },
    {
      "cell_type": "markdown",
      "metadata": {
        "id": "MY1JBynBfoUT"
      },
      "source": [
        "##  Introducción a Notebooks y Unix\n",
        "\n",
        "Linux es un sistema operativo de código abierto (OS) desarrollado en base al kernel creado por Linus Torvalds. En las últimas dos décadas, Linux ha ganado tanta popularidad que ahora se usa en muchas plataformas. Hoy en día, la mayoría de los servicios de alta gama para teléfonos móviles (Android OS o iOS) se ejecutan en diferentes variantes de Linux/Unix."
      ]
    },
    {
      "cell_type": "markdown",
      "metadata": {},
      "source": [
        "\n",
        "### La Terminal\n",
        "\n",
        "Una computadora está compuesta por componentes de hardware y software. El kernel es parte del sistema operativo que permite la interacción entre el hardware y el software, pero solo entiende el lenguaje de máquina (código binario). Shell es un programa que realiza el trabajo de convertir nuestros comandos de usuario en código binario para el kernel. El terminal es el programa que proporciona una interfaz gráfica donde los usuarios pueden ingresar comandos que son convertidos en código binario por el shell para ser ejecutados por la computadora a través del kernel. Usamos un terminal (también conocido como interfaz de línea de comando) para interactuar con el sistema operativo. El terminal por defecto ejecuta uno de los \"shells\". Shell es un programa que se encuentra entre el usuario y el kernel (permite la interacción entre el hardware y el software en una computadora), y traduce los comandos del usuario en código de máquina. Las ventajas de usar la línea de comando son un mayor control y flexibilidad sobre el sistema o el software. Además, varios comandos se pueden guardar en un archivo y ejecutarlos como un script.\n",
        "\n",
        "Los shells más comunes son:\n",
        "\n",
        "- Bourne Shell\n",
        "- Bourne Again Shell\n",
        "- Z Shell\n",
        "- C Shell (variant is T Shell)\n",
        "- K Shell\n",
        "\n",
        "#### Entre estos, Bourne Again Shell (BASH) es el más popular. Este es el shell predeterminado en la mayoría de los sistemas Linux y lo usaremos en todo nuestro curso. \n",
        "\n",
        "![linux](/images/linux.png)\n",
        "\n",
        "*Tomado de: https://dwmkerr.com/effective-shell-part-5-understanding-the-shell/*"
      ]
    },
    {
      "cell_type": "markdown",
      "metadata": {
        "id": "lnarH4fDef7E"
      },
      "source": [
        "## Trabajando en BASH\n",
        "Este curso utilizará principalmente **BASH** para ejecutar comandos y tareas. Las siguientes secciones introducirán los conceptos básicos de trabajar con Bash y las estructuras de archivos de un sistema UNIX\n",
        "\n",
        "Los siguientes ejemplos fueron hechos por Srikeerthana Kuchi (Univ. Of Glasgow) - https://github.com/WCSCourses/ViralBioinfAsia2022/blob/main/Modules/Intro_to_linux_text_processing.pdf \n"
      ]
    },
    {
      "cell_type": "markdown",
      "metadata": {},
      "source": [
        "### Descargar los datos"
      ]
    },
    {
      "cell_type": "code",
      "execution_count": null,
      "metadata": {
        "id": "8FsDUDXAqGXr"
      },
      "outputs": [],
      "source": [
        "%cd /content/\n",
        "!wget https://wcs_data_transfer.cog.sanger.ac.uk/Introduction_to_Linux_Unix_Text_processing.zip ; unzip Introduction_to_Linux_Unix_Text_processing.zip"
      ]
    },
    {
      "cell_type": "markdown",
      "metadata": {
        "id": "p5SImQk-LGMe"
      },
      "source": [
        "### Diferencias clave para trabajar en Google Colab\n",
        "\n",
        "La principal diferencia es usar un `!` uando se quiere ejecutar comandos bash en Google Colab. No pongas esto cuando quiera ejecutar Python."
      ]
    },
    {
      "cell_type": "code",
      "execution_count": null,
      "metadata": {
        "id": "1yjkW5M7LbMz"
      },
      "outputs": [],
      "source": [
        "#Ejemplo en bash\n",
        "!echo \"This is a bash command\""
      ]
    },
    {
      "cell_type": "markdown",
      "metadata": {
        "id": "3NH2ZaGwIuqP"
      },
      "source": [
        "Si olvida usar el símbolo `!` causará un error, ya que Python probablemente no pueda interpretar su comando BASH; intente ejecutar la celda a continuación"
      ]
    },
    {
      "cell_type": "code",
      "execution_count": null,
      "metadata": {
        "colab": {
          "base_uri": "https://localhost:8080/",
          "height": 130
        },
        "id": "HRf3XhgVF1xT",
        "outputId": "c18707cc-9965-4faf-ea01-f576787ac6d9"
      },
      "outputs": [],
      "source": [
        "#Ejemplo de olvidar poner ! en bash\n",
        "echo \"This is a bash command\""
      ]
    },
    {
      "cell_type": "markdown",
      "metadata": {
        "id": "O1gj_VJ8JRns"
      },
      "source": [
        "Esto creará un error llamado`\"syntax error\"` \n",
        "\n",
        "Si te aparece, no te preocupes y verifica que el `!` está en su lugar. Este curso mostrará principalmente ejemplos y solicitará comandos en Bash.\n",
        "\n",
        ">Nota: Python es un lenguaje poderoso para el procesamiento de datos, y aunque no lo exploramos en este curso, es posible que el desarrollo de sus habilidades en Python y Bash sea muy útil para sus proyectos bioinformáticos.\n"
      ]
    },
    {
      "cell_type": "markdown",
      "metadata": {},
      "source": [
        "### Estructura de los comandos de Linux\n",
        "\n",
        "Todos los comandos de Linux son palabras únicas (pueden ser alfanuméricas, es decir, palabras que consisten en letras y números). Por razones históricas, algunos de los primeros comandos tienen solo dos letras y distinguen entre mayúsculas y minúsculas. La mayoría de las opciones de comando (también llamadas banderas) son letras únicas. Deben especificarse después del comando antes de dar cualquier entrada."
      ]
    },
    {
      "cell_type": "code",
      "execution_count": null,
      "metadata": {},
      "outputs": [],
      "source": [
        "#Ejemplo:\n",
        "!ls -l"
      ]
    },
    {
      "cell_type": "markdown",
      "metadata": {},
      "source": [
        "Aquí `ls` es el comando para listar el contenido del directorio, `-l` es la opción para la lista larga.\n",
        "\n",
        "Por favor, recuerde:\n",
        "\n",
        "- Los comandos de Linux distinguen entre mayúsculas y minúsculas\n",
        "- Son palabras únicas\n",
        "- Las opciones deben seguir al comando\n",
        "- Las opciones pueden comenzar con un solo guión y un carácter o dos guiones y una palabra.\n",
        "- Las opciones de caracteres únicos se pueden combinar\n",
        "- Los argumentos pueden ser una o varias entradas (ls -l Document Desktop)\n",
        "- Puede escribir más de un comando separándolos con un punto y coma.;\n",
        "\n",
        "> **Puede usar la tecla \"tab\" para rellenar automáticamente el comando.**"
      ]
    },
    {
      "cell_type": "markdown",
      "metadata": {},
      "source": [
        "### Permisos de archivo\n",
        "\n",
        "Linux es un sistema operativo multiusuario al que muchos usuarios pueden acceder simultáneamente. Esto podría hacerle pensar que un usuario puede manipular los archivos y directorios de otro usuario, pero todos los sistemas operativos Linux protegen los sistemas de archivos bajo dos niveles de autorización (propiedad y permiso) para evitar el acceso no autorizado al sistema de archivos de manera efectiva y fácil. En Linux, existen dos tipos de usuarios: usuarios del sistema y usuarios regulares. Los usuarios del sistema son creados por el propio sistema operativo y se utilizan para administrar procesos en segundo plano. En general, creamos usuarios regulares para crear y ejecutar procesos de manera interactiva a través de una GUI o terminal. Además de estos dos tipos de usuarios, existe un superusuario llamado root, que tiene acceso a todo el sistema para administrar y anular cualquier configuración del sistema.\n",
        "\n",
        "Hay dos niveles de permisos asignados a los archivos, directorios y procesos en Linux. El primero son los grupos de permisos, que se refiere a la propiedad. El segundo son los tipos de permisos, que pueden ser lectura, escritura o ejecución.\n",
        "\n",
        "Grupo de permisos\n",
        "\n",
        "Propietarios: El usuario que crea un archivo, carpeta o proceso es el propietario.\n",
        "\n",
        "Grupos: Los grupos se refieren a cualquier persona que esté en el mismo grupo que el propietario.\n",
        "\n",
        "Otros: Cualquier usuario que no sea el propietario del archivo/directorio y no pertenezca al mismo grupo se asigna al grupo de los demás.\n",
        "\n",
        "Tipo de permiso\n",
        "\n",
        "Las operaciones que cada uno de los tres grupos de usuarios anteriores puede hacer están definidas por los tipos de permisos. Hay tres tipos básicos de permisos que se pueden asignar a tres grupos de usuarios y son lectura (r), escritura (w) y ejecución (x).\n",
        "\n",
        "Para archivos:\n",
        "\n",
        "- La lectura es la capacidad de ver el contenido de un archivo.\n",
        "- La escritura es la capacidad de editar o eliminar el contenido del archivo.\n",
        "- La ejecución es la capacidad de ejecutar un archivo como un programa ejecutable.\n",
        "\n",
        "Para directorios:\n",
        "\n",
        "- La lectura es la capacidad de leer el contenido de un directorio.\n",
        "- La escritura es la capacidad de escribir en el directorio, como crear archivos y subdirectorios dentro de un directorio.\n",
        "- La ejecución es la capacidad de `cd` en el directorio y ver los metadatos de los archivos dentro del directorio utilizando el comando `ls`.\n",
        "\n",
        "Encontrar permisos de un archivo/directorio\n",
        "\n",
        "Para encontrar los permisos asignados a archivos o directorios, use el comando `ls` con el conmutador` -l`.\n",
        "\n"
      ]
    },
    {
      "cell_type": "code",
      "execution_count": null,
      "metadata": {},
      "outputs": [],
      "source": [
        "%cd Introduction_to_Linux_Unix_Text_processing"
      ]
    },
    {
      "cell_type": "code",
      "execution_count": null,
      "metadata": {},
      "outputs": [],
      "source": [
        "!ls -l"
      ]
    },
    {
      "cell_type": "markdown",
      "metadata": {},
      "source": [
        "Diez caracteres en el formato **drwxrwxrwx**, representan los permisos para las tres clases de usuarios. El primer carácter, **d**, indica que el archivo es un directorio.\n",
        "\n",
        "Luego, los tres caracteres siguientes **(drwxr-xr-x)** representan los permisos que se han asignado a los propietarios del archivo. El propietario puede leer, escribir y ejecutar las carpetas GPS y JUNO.\n",
        "\n",
        "Pasando a los siguientes tres caracteres **(drwxr-xr-x)**, que son **r-x**, representan los permisos de grupo. Los usuarios del grupo users pueden acceder al archivo según los permisos del grupo, que especifican que pueden leer y ejecutar en el directorio pero no escribir en él. El guión indica que el permiso no se otorga.\n",
        "\n",
        "Los últimos tres caracteres **(drwxr-xr-x)** representan los permisos para otros grupos que no son el propietario ni miembro del grupo users y los permisos se establecen solo en lectura y ejecución.\n",
        "\n",
        "> Lectura adicional sobre los permisos de Linux: https://blog.ssdnodes.com/blog/linux-permissions/"
      ]
    },
    {
      "cell_type": "markdown",
      "metadata": {
        "id": "6Wqk_GqgF3_l"
      },
      "source": [
        "### Gestión de directorios\n",
        "\n",
        "Los directorios son el equivalente de UNIX de las carpetas en una PC o Mac. Están organizados en una jerarquía, por lo que los directorios pueden tener subdirectorios, etc. Los directorios son muy útiles para organizar su trabajo y mantener su cuenta ordenada; por ejemplo, si tiene más de un proyecto, puede organizar los archivos para cada proyecto en diferentes directorios para mantenerlos separados. Puede pensar en directorios como habitaciones en una casa. Solo puede estar en una habitación (directorio) a la vez. Cuando está en una habitación, puede ver todo en esa habitación fácilmente. Para ver las cosas en otras habitaciones, debe ir a la puerta apropiada. UNIX funciona de manera similar, pasando de directorio a directorio para acceder a los archivos. La ubicación o directorio en el que se encuentra se conoce como el directorio de trabajo actual."
      ]
    },
    {
      "cell_type": "code",
      "execution_count": null,
      "metadata": {
        "id": "4WYbAqPDLicJ"
      },
      "outputs": [],
      "source": [
        "!mkdir new_folder"
      ]
    },
    {
      "cell_type": "code",
      "execution_count": null,
      "metadata": {
        "id": "xPR2qI0_te4o"
      },
      "outputs": [],
      "source": [
        "!touch new_file"
      ]
    },
    {
      "cell_type": "code",
      "execution_count": null,
      "metadata": {
        "id": "qV5T6aAhtjC9"
      },
      "outputs": [],
      "source": [
        "!ls"
      ]
    },
    {
      "cell_type": "code",
      "execution_count": null,
      "metadata": {
        "collapsed": true,
        "id": "iekMN3ypuaHj"
      },
      "outputs": [],
      "source": [
        "!ls -l"
      ]
    },
    {
      "cell_type": "code",
      "execution_count": null,
      "metadata": {
        "id": "RKYP4pFVtjKg"
      },
      "outputs": [],
      "source": [
        "!cat new_file"
      ]
    },
    {
      "cell_type": "markdown",
      "metadata": {},
      "source": [
        "Comandos como `less` se comportarán extrañamente en el sistema Colab. Deberás encontrar una caja blanca en la parte inferior de la ventana de la celda y escribir `q` en ella, luego presionar Enter para detener esta celda en funcionamiento\n",
        "\n",
        "Esto se debe a que `less` es un comando interactivo y para imitar la \"pantalla\" de un terminal Unix, Colab usa una celda interactiva\n",
        "Este es también el caso de otros comandos interactivos como `vi`, `nano`, `vim`, etc.\n"
      ]
    },
    {
      "cell_type": "code",
      "execution_count": null,
      "metadata": {
        "id": "U9xIGYb2t0mq"
      },
      "outputs": [],
      "source": [
        "# Esta celda no se detendrá si no lo hace, lo que hace que otras celdas esperen y se pongan en cola!\n",
        "# Puedes detener una celda con el círculo de reproducir/detener, o utilizando la pestaña de comando de tiempo de ejecución\n",
        "!less new_file"
      ]
    },
    {
      "cell_type": "markdown",
      "metadata": {
        "id": "aNyBTzGaz4cX"
      },
      "source": [
        "### Comandos útiles"
      ]
    },
    {
      "cell_type": "markdown",
      "metadata": {
        "id": "4-IjRzZFzbBd"
      },
      "source": [
        "#### pwd (print working directory)\n",
        "Devuelve el nombre del directorio de trabajo actual"
      ]
    },
    {
      "cell_type": "code",
      "execution_count": null,
      "metadata": {
        "id": "GOC_qoW7zfzq"
      },
      "outputs": [],
      "source": [
        "!pwd"
      ]
    },
    {
      "cell_type": "markdown",
      "metadata": {
        "id": "r83lt8MCzmsK"
      },
      "source": [
        "#### cd change directory\n",
        "\n",
        "Cambiar de directorio. Se utiliza para cambiar el directorio de trabajo.\n",
        "\n",
        ">**Nota: en Colab debes poner `%` antes de `cd`**"
      ]
    },
    {
      "cell_type": "code",
      "execution_count": null,
      "metadata": {
        "id": "eiGcUydo0uSb"
      },
      "outputs": [],
      "source": [
        "!ls"
      ]
    },
    {
      "cell_type": "code",
      "execution_count": null,
      "metadata": {},
      "outputs": [],
      "source": [
        "%cd Introduction_to_Linux_Unix_Text_processing"
      ]
    },
    {
      "cell_type": "code",
      "execution_count": null,
      "metadata": {
        "id": "FbKeIZH2zrcZ"
      },
      "outputs": [],
      "source": [
        "!pwd"
      ]
    },
    {
      "cell_type": "markdown",
      "metadata": {},
      "source": [
        "El comando `cd ..` te saca del directorio actual."
      ]
    },
    {
      "cell_type": "markdown",
      "metadata": {
        "id": "fEUB41xn2HVP"
      },
      "source": [
        "#### mkdir make directory\n",
        "Crea un directorio si no existe ningún archivo/directorio con ese nombre."
      ]
    },
    {
      "cell_type": "code",
      "execution_count": null,
      "metadata": {
        "id": "qrIbxC9d2Hve"
      },
      "outputs": [],
      "source": [
        "!mkdir Practice\n",
        "!ls -l"
      ]
    },
    {
      "cell_type": "markdown",
      "metadata": {
        "id": "o6Cf7D3N2H66"
      },
      "source": [
        "#### rmdir remove directory\n",
        "Eliminar directorio. Este comando elimina un directorio vacío. Intenta esto a continuación y observa si puedes ver que la carpeta desaparezca."
      ]
    },
    {
      "cell_type": "code",
      "execution_count": null,
      "metadata": {
        "id": "_FUa8iOY2IKE"
      },
      "outputs": [],
      "source": [
        "!rmdir Practice/\n",
        "!ls -l"
      ]
    },
    {
      "cell_type": "markdown",
      "metadata": {
        "id": "bfUf8akK29xT"
      },
      "source": [
        "#### touch\n",
        "Es un comando para cambiar la marca de tiempo de un archivo. Sin embargo, también se puede usar para crear un archivo vacío. Este comando se utiliza generalmente para verificar si hay permisos de escritura para el usuario actual."
      ]
    },
    {
      "cell_type": "code",
      "execution_count": null,
      "metadata": {
        "id": "dScFOBl729-B"
      },
      "outputs": [],
      "source": [
        "!touch coronavirus.txt\n",
        "!ls -l"
      ]
    },
    {
      "cell_type": "markdown",
      "metadata": {
        "id": "XX5wr3zu2-I_"
      },
      "source": [
        "#### rm remove\n",
        "`rm` se utiliza para eliminar archivos y directorios. Intenta esto a continuación para eliminar el archivo que acabamos de crear."
      ]
    },
    {
      "cell_type": "code",
      "execution_count": null,
      "metadata": {
        "id": "3e_jtT3c2-XD"
      },
      "outputs": [],
      "source": [
        "!rm coronavirus.txt\n",
        "!ls -l"
      ]
    },
    {
      "cell_type": "markdown",
      "metadata": {},
      "source": [
        "Para eliminar directorios, utiliza la opción `-r` junto con el comando `rm`."
      ]
    },
    {
      "cell_type": "markdown",
      "metadata": {
        "id": "oPqtI7IO3cSm"
      },
      "source": [
        "### POR FAVOR, TEN CUIDADO\n",
        ">**Recuerda que una vez que se elimina un archivo o directorio, no irá a la \"Papelera de reciclaje\" en Linux y no hay forma de recuperarlo.**"
      ]
    },
    {
      "cell_type": "markdown",
      "metadata": {
        "id": "mFYYI4323sJm"
      },
      "source": [
        "#### cp Copy\n",
        "Copia el contenido del archivo/directorio fuente al archivo/directorio de destino. Para copiar directorios, utiliza la opción `-r`."
      ]
    },
    {
      "cell_type": "code",
      "execution_count": null,
      "metadata": {
        "id": "BgpSHuPJ3sU1"
      },
      "outputs": [],
      "source": [
        " !touch temp1\n",
        " !cp temp1 temp2\n",
        " !ls -l"
      ]
    },
    {
      "cell_type": "markdown",
      "metadata": {
        "id": "PC3h6cUL4C_8"
      },
      "source": [
        "#### mv Move\n",
        "\n",
        "Para mover o renombrar un archivo o un directorio."
      ]
    },
    {
      "cell_type": "code",
      "execution_count": null,
      "metadata": {
        "id": "Cm8mAcsd4Cku"
      },
      "outputs": [],
      "source": [
        " !mkdir temp\n",
        " !mv temp1 temp/.\n",
        " !mv temp2 temp3\n",
        "!ls -l"
      ]
    },
    {
      "cell_type": "markdown",
      "metadata": {
        "id": "hsUoxgtu4XMk"
      },
      "source": [
        "El segundo comando mueve el archivo \"temp1\" al directorio \"temp\". El \".\" (punto) al final del comando conserva el nombre del archivo, mientras que el tercer comando cambia el nombre del archivo \"temp2\" a \"temp3\"."
      ]
    },
    {
      "cell_type": "markdown",
      "metadata": {},
      "source": [
        "#### ln\n",
        "\n",
        "Enlace. Para hacer enlaces a archivos/directorios.\n",
        "\n",
        "Hay dos tipos de enlaces:\n",
        "\n",
        "1. Enlaces simbólicos (también conocidos como symlink o soft link) - Se refieren a una ruta simbólica que indica la ubicación abstracta de otro archivo.\n",
        "2. Enlace duro - Se refiere a la ubicación específica de los datos físicos.\n",
        "\n",
        "Los enlaces simbólicos se crean con el comando `ln -s`. Los enlaces simbólicos se pueden enlazar en diferentes sistemas de archivos, aunque si el archivo original se elimina o se mueve, el archivo enlazado no funcionará correctamente (se llama enlace colgante).\n",
        "\n",
        "El comando para crear un enlace simbólico es:\n",
        "\n",
        "`ln  -s [nombre del archivo original] [nombre del enlace]`\n",
        "\n",
        "Por ejemplo, lo siguiente crearía un enlace simbólico llamado practice al archivo llamado GPSC33_reference.fasta en el directorio ‘/Users/jm61/bioinformatics/Intro_to_linux’, ambos en el directorio actual.\n",
        "\n",
        "Ejemplo: `ln -s /Users/jm61/bioinformatics/Intro_to_linux/GPSC33_reference.fasta practice`\n",
        "\n",
        "`ls -l` (para imprimir los archivos y directorios en GPS. practice debería estar listado en este directorio)"
      ]
    },
    {
      "cell_type": "code",
      "execution_count": null,
      "metadata": {},
      "outputs": [],
      "source": [
        "# Utiliza esta celda para practicar el comando ln -s"
      ]
    },
    {
      "cell_type": "markdown",
      "metadata": {},
      "source": [
        "Se recomienda crear enlaces en lugar de copiar datos en varios directorios para ahorrar espacio.\n",
        "\n",
        "Los enlaces duros son más flexibles y permanecen enlazados incluso si los archivos originales o enlazados se mueven por todo el sistema de archivos, aunque los enlaces duros no pueden atravesar diferentes sistemas de archivos.\n",
        "\n",
        "El comando para crear un enlace duro es\n",
        "\n",
        "`ln  [nombre del archivo original] [nombre del enlace]`\n",
        "\n",
        "Por ejemplo, lo siguiente crearía un enlace duro llamado practice2 al archivo llamado GPSC33_reference.fasta en el directorio ‘/Users/jm61/bioinformatics/Intro_to_linux’, ambos en el directorio actual.\n",
        "\n",
        "Ejemplo: `ln /Users/jm61/bioinformatics/Intro_to_linux/GPSC33_reference.fasta practice2`\n",
        "\n",
        "`ls -l` (para imprimir los archivos y directorios en GPS. practice debería estar listado en este directorio)"
      ]
    },
    {
      "cell_type": "code",
      "execution_count": null,
      "metadata": {},
      "outputs": [],
      "source": [
        "# Utiliza esta celda para practicar el comando ln"
      ]
    },
    {
      "cell_type": "markdown",
      "metadata": {
        "id": "yK27MJL14xuG"
      },
      "source": [
        "### Visores de archivos"
      ]
    },
    {
      "cell_type": "markdown",
      "metadata": {
        "id": "LLYLZmZp4x9X"
      },
      "source": [
        "#### cat Concatenate\n",
        "Concatenar. Combinar archivos e imprimir en la pantalla."
      ]
    },
    {
      "cell_type": "code",
      "execution_count": null,
      "metadata": {
        "id": "MCnSUCb0r4so"
      },
      "outputs": [],
      "source": [
        "!pwd\n"
      ]
    },
    {
      "cell_type": "code",
      "execution_count": null,
      "metadata": {},
      "outputs": [],
      "source": [
        "%cd .."
      ]
    },
    {
      "cell_type": "code",
      "execution_count": null,
      "metadata": {
        "id": "pA--U9Yq4-Xy"
      },
      "outputs": [],
      "source": [
        "!cat /content/Introduction_to_Linux_Unix_Text_processing/SARS-CoV-2.fa"
      ]
    },
    {
      "cell_type": "markdown",
      "metadata": {
        "id": "VrR_apXW5Fqa"
      },
      "source": [
        "#### more/less\n",
        "Estos comandos se usan para ver los archivos en la terminal. Es útil para escanear a través de grandes archivos. Presiona \"Enter\" para ver más líneas y `q` para salir del programa.\n"
      ]
    },
    {
      "cell_type": "code",
      "execution_count": null,
      "metadata": {
        "id": "9ziSK7QM5F5I"
      },
      "outputs": [],
      "source": [
        "!more /content/Introduction_to_Linux_Unix_Text_processing/SARS-CoV-2.fa"
      ]
    },
    {
      "cell_type": "markdown",
      "metadata": {
        "id": "krrjHAKj5RSn"
      },
      "source": [
        "#### head/tail\n",
        "Estos comandos muestran las primeras y últimas líneas (por defecto son 10 líneas), respectivamente, de un archivo."
      ]
    },
    {
      "cell_type": "code",
      "execution_count": null,
      "metadata": {
        "id": "IidONJu75Rh-"
      },
      "outputs": [],
      "source": [
        "!head /content/Introduction_to_Linux_Unix_Text_processing/SARS-CoV-2.gb"
      ]
    },
    {
      "cell_type": "code",
      "execution_count": null,
      "metadata": {},
      "outputs": [],
      "source": [
        "!tail /content/Introduction_to_Linux_Unix_Text_processing/SARS-CoV-2.gb"
      ]
    },
    {
      "cell_type": "markdown",
      "metadata": {},
      "source": [
        "### Editores de archivos\n",
        "\n",
        "Los visores de archivos muestran el contenido del archivo sin realizar cambios. Para cambiar el contenido del archivo, debe usar editores de archivos. Hay muchos editores de texto no gráficos como ed, emacs, vim y nano disponibles en la mayoría de las distribuciones de Linux. Algunos de ellos son muy sofisticados (por ejemplo, vi) y para usuarios avanzados. Aquí aprenderemos sobre un editor de archivos no gráfico, \"nano\".nano (anteriormente llamado pico) es muy parecido a cualquier editor gráfico sin un ratón. Todos los comandos se ejecutan a través del uso de teclados, usando el modificador de tecla <CTRL>. Se puede utilizar para editar virtualmente cualquier tipo de archivo de texto desde la línea de comandos.\n",
        "\n",
        "nano sin un nombre de archivo le da una ventana de nano estándar (en blanco).\n",
        "\n",
        "En la parte inferior de la pantalla, hay comandos con un símbolo delante. El símbolo le indica que debe mantener presionada la tecla Control (Ctrl) y luego presionar la letra correspondiente del comando que desea utilizar.\n",
        "\n",
        "Por ejemplo:\n",
        "\n",
        "**Ctrl+X** saldrá de nano y lo devolverá a la línea de comando.\n",
        "\n",
        "Referencia rápida de nano\n",
        "\n",
        "**Ctrl+X**: Salir del editor. Si ha editado texto sin guardar, se le preguntará si realmente desea salir.\n",
        "\n",
        "**Ctrl+O**: Escribir (salida) el contenido actual del búfer de texto en un archivo. Aparecerá una ventana de nombre de archivo; presione Ctrl+T para abrir el navegador de archivos que se muestra arriba.\n",
        "\n",
        "**Ctrl+R**: Leer un archivo de texto en la sesión de edición actual. En la ventana de nombre de archivo, presione Ctrl+T: para el navegador de archivos. \n",
        "\n",
        "**Ctrl+K**:  Cortar una línea en el portapapeles. Puede presionar esto repetidamente para copiar varias líneas, que luego se almacenan como un solo bloque.\n",
        "\n",
        "**Ctrl+J**: Justificar (rellenar) un párrafo de texto. Por defecto, esto reformatea el texto para que se ajuste al ancho de la ventana de edición.\n",
        "\n",
        "**Ctrl+U**: Deshacer corte de texto, o más bien, pegarlo desde el portapapeles. Tenga en cuenta que después de una operación de justificación, esto se convierte en desjustificar.. \n",
        "\n",
        "**Ctrl+T**: Revisar la ortografía.\n",
        "\n",
        "**Ctrl+W**: Buscar una palabra o frase. En el indicador, use las teclas de cursor para pasar por las búsquedas anteriores, o presione Ctrl+R para pasar al modo de reemplazo. Alternativamente, puede presionar Ctrl+T para ir a una línea específica.\n",
        "\n",
        "**Ctrl+C**: Mostrar el número de línea actual y la información del archivo.\n",
        "\n",
        "**Ctrl+G**: Obtener ayuda; esto proporciona información sobre cómo navegar por los archivos y los comandos de teclado comunes."
      ]
    },
    {
      "cell_type": "markdown",
      "metadata": {},
      "source": [
        "### Obtener ayuda en Linux\n",
        "\n",
        "La mayoría de los comandos de Linux tienen páginas manuales. Para acceder a ellas, use el comando \"man\" o \"info\". La página del manual proporciona una explicación detallada del comando, todas las opciones disponibles y, a veces, también proporciona ejemplos. Por ejemplo, para obtener la página del manual del comando ls, escriba \"man ls\".\n",
        "\n",
        "Explore las páginas manuales de todos los comandos anteriores para ver las opciones disponibles.\n",
        "\n",
        "**Algunos comandos útiles**\n",
        "\n",
        "ls: Lista el contenido del directorio actual.\n",
        "\n",
        "mkdir: Crea un nuevo directorio.\n",
        "\n",
        "mv: Mueve o renombra un archivo.\n",
        "\n",
        "cp: Copia un archivo.\n",
        "\n",
        "rm: Elimina un archivo.\n",
        "\n",
        "cat: Concatena archivos.\n",
        "\n",
        "more: Muestra el contenido de un archivo una página a la vez.\n",
        "\n",
        "head: Muestra las primeras diez líneas de un archivo.\n",
        "\n",
        "tail: Muestra las últimas diez líneas de un archivo.\n",
        "\n",
        "cd: Cambia el directorio de trabajo actual.\n",
        "\n",
        "pwd: Imprime el directorio de trabajo actual.\n",
        "\n",
        "find: Encuentra archivos que coinciden con una expresión.\n",
        "\n",
        "grep: Busca patrones en un archivo.\n",
        "\n",
        "wc: Cuenta las líneas, palabras, caracteres y bytes en un archivo.\n",
        "\n",
        "kill: Detiene un proceso.\n",
        "\n",
        "jobs: Lista los procesos que se están ejecutando.\n",
        "jobs: Lists the processes that are running"
      ]
    },
    {
      "cell_type": "code",
      "execution_count": null,
      "metadata": {
        "id": "F3VjYEZ5kART"
      },
      "outputs": [],
      "source": [
        "!man ls"
      ]
    },
    {
      "cell_type": "markdown",
      "metadata": {
        "id": "jvTowcHykchq"
      },
      "source": [
        "### Comandos para el procesamiento de texto"
      ]
    },
    {
      "cell_type": "markdown",
      "metadata": {
        "id": "q97V2_Wtkc0L"
      },
      "source": [
        "#### cut\n",
        "\n",
        "El comando `cut` es una utilidad de línea de comandos para cortar una sección de un archivo. Consulte `man cut` para ver las opciones disponibles."
      ]
    },
    {
      "cell_type": "code",
      "execution_count": null,
      "metadata": {
        "id": "ekXRHGlIkdDP"
      },
      "outputs": [],
      "source": [
        "!cut -c1-10 /content/Introduction_to_Linux_Unix_Text_processing/SARS-CoV-2.fa"
      ]
    },
    {
      "cell_type": "markdown",
      "metadata": {
        "id": "wxIjjGfqku5_"
      },
      "source": [
        "La opción `-c 1-10` le dará los caracteres 1-10 del archivo de entrada.\n",
        "\n",
        "Aquí hay algunas de las opciones útiles:\n",
        "\n",
        "- `c`: cortar según la posición del carácter.\n",
        "- `d`: cortar según el delimitador.\n",
        "- `f`: número de campo.\n",
        "\n",
        "Tenemos un archivo llamado \"human_viruses.txt\" con todos los recuentos, serotipos, número de acceso, comentarios y referencia. Estos campos están separados por el símbolo \",\"."
      ]
    },
    {
      "cell_type": "code",
      "execution_count": null,
      "metadata": {
        "id": "pVQl00KflBcs"
      },
      "outputs": [],
      "source": [
        "!head /content/Introduction_to_Linux_Unix_Text_processing/human_viruses.txt"
      ]
    },
    {
      "cell_type": "markdown",
      "metadata": {
        "id": "37A3OvYxlFJp"
      },
      "source": [
        "Para obtener solo el número de acceso"
      ]
    },
    {
      "cell_type": "code",
      "execution_count": null,
      "metadata": {
        "id": "Z7BTKK2ClK7w"
      },
      "outputs": [],
      "source": [
        "!cut -d \"|\" -f2 /content/Introduction_to_Linux_Unix_Text_processing/human_viruses.txt"
      ]
    },
    {
      "cell_type": "markdown",
      "metadata": {
        "id": "aBxlKKjQlPFX"
      },
      "source": [
        "#### sort\n",
        "\n",
        "Se utiliza para ordenar el contenido de entrada.\n",
        "\n",
        "\n",
        "Algunas opciones son:\n",
        "\n",
        "`-t`: separador de campo\n",
        "\n",
        "`-n`: orden numérico\n",
        "\n",
        "`-k`: ordenar con una clave (campo)\n",
        "\n",
        "`-r`: orden inverso\n",
        "\n",
        "`-u`: imprimir entradas únicas"
      ]
    },
    {
      "cell_type": "code",
      "execution_count": null,
      "metadata": {
        "id": "yyF9F03hlY4r"
      },
      "outputs": [],
      "source": [
        "!sort -t \"|\" -nrk6 /content/Introduction_to_Linux_Unix_Text_processing/human_viruses.txt"
      ]
    },
    {
      "cell_type": "markdown",
      "metadata": {
        "id": "XE0b15qUle0Z"
      },
      "source": [
        "#### grep\n",
        "`grep` Busca patrones en la entrada\n",
        "\n",
        "Algunas opciones son:\n",
        "\n",
        "`A`: contexto posterior\n",
        "\n",
        "\n",
        "`B`: contexto anterior\n",
        "\n",
        "`C`: contexto anterior y posterior\n",
        "\n",
        "`c`: cuenta\n",
        "\n",
        "`l`: archivo con coincidencia\n",
        "\n",
        "`i`: ignorar mayúsculas y minúsculas\n",
        "\n",
        "`o`: solo coincidencia\n",
        "\n",
        "`v`: invertir coincidencia\n",
        "\n",
        "`w`: coincidencia de palabras\n",
        "\n",
        "Para obtener todos los aislamientos solo de \"Bentley et al\" de serotypes_GPS_resources.txt"
      ]
    },
    {
      "cell_type": "code",
      "execution_count": null,
      "metadata": {
        "id": "EgNQS11elod1"
      },
      "outputs": [],
      "source": [
        "!grep \"Hepatitis\" /content/Introduction_to_Linux_Unix_Text_processing/human_viruses.txt"
      ]
    },
    {
      "cell_type": "markdown",
      "metadata": {
        "id": "MQN60dA9lrfV"
      },
      "source": [
        "#### wc\n",
        "\n",
        "El comando `wc` se puede usar de 2 maneras: contar líneas, palabras o caracteres."
      ]
    },
    {
      "cell_type": "code",
      "execution_count": null,
      "metadata": {
        "id": "ZgPEG2E_lzoL"
      },
      "outputs": [],
      "source": [
        "!wc -l /content/Introduction_to_Linux_Unix_Text_processing/outbreak.csv"
      ]
    },
    {
      "cell_type": "code",
      "execution_count": null,
      "metadata": {
        "id": "vDNPRtlYl2-u"
      },
      "outputs": [],
      "source": [
        "!cat /content/Introduction_to_Linux_Unix_Text_processing/outbreak.csv | wc -l"
      ]
    },
    {
      "cell_type": "markdown",
      "metadata": {
        "id": "W79G_y1Sl5hg"
      },
      "source": [
        "#### uniq\n",
        "\n",
        "El comando `uniq` extrae líneas únicas de la entrada. Por lo general, se usa en combinación con `sort` para contar valores únicos en la entrada. Para obtener una lista de los países que presentaron un brote en el 2022"
      ]
    },
    {
      "cell_type": "code",
      "execution_count": null,
      "metadata": {
        "id": "M1LxQw2rmUbH"
      },
      "outputs": [],
      "source": [
        "!cut -d, -f3 /content/Introduction_to_Linux_Unix_Text_processing/outbreak.csv | sort | uniq"
      ]
    },
    {
      "cell_type": "markdown",
      "metadata": {
        "id": "9HO9XAdsmo2a"
      },
      "source": [
        "Otros comandos de procesamiento de texto que vale la pena mirar son: `tr`, `rev`, `sed` y `paste`."
      ]
    },
    {
      "cell_type": "markdown",
      "metadata": {
        "id": "AlF_ySwGmtWL"
      },
      "source": [
        "### Control de \"outputs\" o salidas en Linux"
      ]
    },
    {
      "cell_type": "markdown",
      "metadata": {
        "id": "hlsBAV5JmtKc"
      },
      "source": [
        "Cuando ejecuta un comando, la salida se enviará a la salida estándar (stdout) es decir, a la terminal. Sin embargo, podemos enviar la salida estándar a un archivo usando la redirección `>`. Esto redireccionará la salida estándar a un archivo."
      ]
    },
    {
      "cell_type": "code",
      "execution_count": null,
      "metadata": {
        "id": "BfEZOi1xnHMW"
      },
      "outputs": [],
      "source": [
        "!ls > list\n",
        "!cat list"
      ]
    },
    {
      "cell_type": "markdown",
      "metadata": {
        "id": "3h2RgYxUnLxS"
      },
      "source": [
        "Esto creará un nuevo archivo llamado list con todos los nombres de archivo en el directorio. Recuerde, si hay un archivo que existe con el nombre \"list\", su contenido será sobrescrito por la salida estándar. En su lugar, podemos agregar a un archivo usando la redirección `>>` que agregará nuevas líneas al final del archivo.\n",
        "\n",
        "Otro tipo de salida que generan los programas es el error estándar. Tenemos que usar `2>` para redirigirlo."
      ]
    },
    {
      "cell_type": "code",
      "execution_count": null,
      "metadata": {
        "id": "Vf6qbH1CnQe5"
      },
      "outputs": [],
      "source": [
        "!ls /foo 2> error"
      ]
    },
    {
      "cell_type": "markdown",
      "metadata": {
        "id": "JpYLn8sVnUH9"
      },
      "source": [
        "Para redirigir la salida estándar y el error estándar a un archivo, use  `&>`"
      ]
    },
    {
      "cell_type": "markdown",
      "metadata": {
        "id": "aM3-zZmQnXpK"
      },
      "source": [
        "### Pipes"
      ]
    },
    {
      "cell_type": "markdown",
      "metadata": {
        "id": "BoIkOMprnXyR"
      },
      "source": [
        "El piping en Linux es una forma muy potente y eficiente de combinar comandos. Las tuberías `|` en Linux actúan como enlaces de conexión entre comandos. Las tuberías hacen que la salida del comando anterior sea la entrada del siguiente comando. Podemos anidar tantos comandos como queramos usando tuberías. Juegan un papel importante en el flujo de comandos suave y en la reducción del tiempo de ejecución.\n",
        "\n",
        "Para imprimir aislamientos de Bentley et al"
      ]
    },
    {
      "cell_type": "code",
      "execution_count": null,
      "metadata": {
        "id": "hUk3EKpXnn__"
      },
      "outputs": [],
      "source": [
        "!sort -t \"|\" -nk6 /content/Introduction_to_Linux_Unix_Text_processing/human_viruses.txt | head -10"
      ]
    },
    {
      "cell_type": "markdown",
      "metadata": {
        "id": "Db6t0y-unrtf"
      },
      "source": [
        "### Process control"
      ]
    },
    {
      "cell_type": "markdown",
      "metadata": {
        "id": "iZ67Ig7rnziY"
      },
      "source": [
        "Algunos comandos toman tiempo para finalizar el trabajo asignado. Por ejemplo, si desea comprimir un archivo enorme con el comando gzip que toma unos minutos para terminar de ejecutarse, puede ejecutarlo en segundo plano agregando el comando con `&` (otra forma es suspender un comando presionando Ctrl+Z y escribiendo `bg`). La finalización de la tarea se indica con `Done`."
      ]
    },
    {
      "cell_type": "code",
      "execution_count": null,
      "metadata": {
        "id": "I_90Qp2oo9zt"
      },
      "outputs": [],
      "source": [
        "!gzip list &"
      ]
    },
    {
      "cell_type": "markdown",
      "metadata": {
        "id": "Lq1ow6eopCjk"
      },
      "source": [
        "Podemos obtener una lista de los trabajos o \"jobs\" que actualmente están en ejecución en la terminal mediante el comando `jobs`. Esto le dará todos los jobs de fondo que se están ejecutantando en la terminal actual. Si desea ver todos los procesos en ejecución en el sistema, use `top`. Puede obtener detalles específicos del usuario utilizando la opción `-u`.\n"
      ]
    },
    {
      "cell_type": "code",
      "execution_count": null,
      "metadata": {
        "id": "zb91KCGVpF0a"
      },
      "outputs": [],
      "source": [
        "!top"
      ]
    },
    {
      "cell_type": "markdown",
      "metadata": {
        "id": "SaowKoH3pZij"
      },
      "source": [
        "\n",
        "El comando `top` imprime una salida dinámica de 12 columnas. Estas columnas son:\n",
        "\n",
        "PID: Identificación del proceso, este es un número único utilizado para identificar el proceso.\n",
        "\n",
        "USER: El nombre de usuario de quien inició el proceso.\n",
        "\n",
        "PR: Prioridad: La prioridad del proceso. Los procesos con mayor prioridad serán favorecidos por el kernel y se les dará más tiempo de CPU que a los procesos con menor prioridad. Curiosamente, cuanto menor sea este valor, mayor será la prioridad real.\n",
        "\n",
        "NI: Valor de nice: nice es una forma de establecer la prioridad de su proceso.\n",
        "\n",
        "VIRT: Tamaño de memoria virtual (KiB): la cantidad total de memoria virtual utilizada por el proceso.\n",
        "\n",
        "RES: Tamaño de memoria residente (KiB): la memoria física no intercambiada que ha utilizado una tarea.\n",
        "\n",
        "SHR: Tamaño de memoria compartida (KiB): la cantidad de memoria compartida disponible para una tarea, que no siempre está residente. Simplemente refleja la memoria que potencialmente podría compartirse con otros procesos.\n",
        "\n",
        "S: Estado del proceso: el estado de la tarea que puede ser:\n",
        "\n",
        "- D = espera ininterrumpible\n",
        "\n",
        "- R = en ejecución\n",
        "\n",
        "- S = espera\n",
        "\n",
        "- T = rastreado o detenido\n",
        "\n",
        "- Z = zombie\n",
        "\n",
        "%CPU: Uso de CPU: el porcentaje de su CPU que está siendo utilizado por el proceso. Por defecto, top lo muestra como un porcentaje de una sola CPU. En sistemas multinúcleo, puede tener porcentajes que son mayores que el 100%. Por ejemplo, si 3 núcleos tienen un uso del 60%, la parte superior mostrará un uso de la CPU de 180.\n",
        "\n",
        "%MEM: Uso de memoria (RES): la parte actualmente utilizada de la memoria física disponible (RAM) de una tarea.\n",
        "\n",
        "TIME+: Tiempo de CPU, centésimas: tiempo total de CPU que la tarea ha utilizado desde que se inició.\n",
        "\n",
        "COMMAND: Nombre del comando o línea de comando: para ver la línea de comando completa que inició el proceso, inicie top con la bandera \"-c\".\n",
        "\n",
        "Si desea detener un trabajo en segundo plano en ejecución, use el comando \"kill\".\n",
        "\n",
        "kill 1234\n",
        "\n",
        "Esto matará el trabajo con el ID de proceso 1234. Como usuario, solo puede matar sus trabajos. No tiene permiso para ejecutar este comando en los ID de proceso de otros usuarios."
      ]
    },
    {
      "cell_type": "markdown",
      "metadata": {},
      "source": [
        "#### Atajos de línea de comando\n",
        "\n",
        "Flechas arriba / abajo: comandos anteriores\n",
        "\n",
        "!!: Volver a ejecutar el comando anterior\n",
        "\n",
        "Tabulador: autocompletar\n",
        "\n",
        "Tabulador + Tabulador: todas las opciones disponibles\n",
        "\n",
        "Ctrl+a: Mover el cursor al inicio de la línea\n",
        "\n",
        "Ctrl+e: Mover el cursor al final de la línea\n",
        "\n",
        "Ctrl+: Alterna entre terminales\n",
        "\n",
        "Ctrl+l: Borrar pantalla (o Comando + k en Mac)\n",
        "\n",
        "Ctrl+c: Termina el programa en ejecución\n",
        "\n",
        "Ctrl+z: Suspende el programa en ejecución\n",
        "\n",
        "Ctrl+w: Elimina una palabra anterior\n",
        "\n",
        "Ctrl+d: Cerrar sesión\n",
        "\n",
        "Ctrl+d (en un comando): Elimina un carácter\n",
        "\n",
        "Ctrl+u: Elimina hasta el inicio"
      ]
    },
    {
      "cell_type": "markdown",
      "metadata": {
        "id": "1IEOrNcBvV-J"
      },
      "source": [
        "## Ejercicios:\n",
        "\n",
        "1. Navegue al directorio Exercises (/content/introduction_to_linux_unix_text_processing/Exercises)\n",
        "\n",
        "2. Extraiga las primeras 15 líneas del archivo \"HM067743.1_cds_adq37313.1_1.fa\" y guarde la salida en \"output.fa\"\n",
        "\n",
        "3. ¿Cuántos archivos FASTA hay en el directorio?\n",
        "\n",
        "4. Extraiga todas las líneas de encabezado del archivo all.fa\n",
        "\n",
        "5. ¿Cuántas secuencias hay en el archivo all.fa?\n",
        "\n",
        "6. Obtenga la lista de países (excluyendo múltiples brotes de países) que tuvieron un brote en 2022 (input: /content/introduction_to_linux_unix_text_processing/outbreak.csv)\n",
        "\n",
        "7. Encuentre el número de brotes (excluya los brotes de múltiples países utilizando invertir el partido GREP (-V)) en cada mes de 2022."
      ]
    },
    {
      "cell_type": "code",
      "execution_count": null,
      "metadata": {
        "id": "qLknepLivnJD"
      },
      "outputs": [],
      "source": [
        "#Use este espacio para practicar su código y responder las preguntas en los ejercicios anteriores.\n",
        "#Para agregar más bloques de código use el botón de +código la parte superior de la página."
      ]
    },
    {
      "cell_type": "markdown",
      "metadata": {},
      "source": [
        "# Cheat sheet de Linux\n",
        "\n",
        "Comandos de directorio/archivo\n",
        "\n",
        "pwd: directorio de trabajo actual\n",
        "\n",
        "ls -l -alh: lista los contenidos del directorio actual\n",
        "\n",
        "cd dir: cambia al directorio dir\n",
        "\n",
        "mkdir dir: crea un directorio llamado dir\n",
        "\n",
        "touch file: crea un archivo llamado file\n",
        "\n",
        "m file: elimina un archivo llamado file\n",
        "\n",
        "rm -r dir: elimina el directorio y los contenidos llamados dir\n",
        "\n",
        "rm -f dir: elimina forzadamente un archivo llamado file\n",
        "\n",
        "rm -rf dir : elimina forzadamente el directorio dir y los contenidos (cuidado con esto)\n",
        "\n",
        "mv file1 file2 : mueve file1 a file2 (usado para renombrar archivos)\n",
        "\n",
        "mv dir1 dir2 : mueve dir1 a dir2 (usado para renombrar directorios)\n",
        "\n",
        "cp file1 file2: copia file1 a file2\n",
        "\n",
        "cp -r dir1 dir2 : copia dir1 a dir2\n",
        "\n",
        "cat file: muestra el contenido del archivo en stdout\n",
        "\n",
        "less file: muestra el contenido del archivo que cabe dentro de la pantalla de la terminal\n",
        "\n",
        "head -n 10 file: muestra las primeras 10 líneas del archivo\n",
        "\n",
        "tail -n 10 file: muestra las últimas 10 líneas del archivo\n",
        "\n",
        "sort file: muestra el contenido del archivo con cada línea ordenada\n",
        "\n",
        "wc -l file: cuenta el número de líneas del archivo\n",
        "\n",
        "ln -s target name: crea un enlace al archivo de destino con el nombre\n",
        "\n",
        "Comandos del sistema\n",
        "\n",
        "w: muestra quién está conectado\n",
        "\n",
        "whoami: muestra quién eres\n",
        "\n",
        "man command: muestra información sobre el comando\n",
        "\n",
        "df -h: muestra el uso actual del disco\n",
        "\n",
        "du -sh dir: muestra el uso del disco de dir\n",
        "\n",
        "which app: muestra la ruta al lugar de la app\n",
        "\n",
        "whereis app : muestra todas las rutas posibles para la aplicación\n",
        "\n",
        "history: muestra todos los comandos que se han ejecutado\n",
        "\n",
        "clear: borra el texto de la terminal\n",
        "\n",
        "Comandos de permisos de archivo\n",
        "\n",
        "chmod 777 file: establece lectura (r), escritura (w) y ejecución (x) para todos los usuarios\n",
        "\n",
        "chmod 755 file: establece propietario a rwx y todos los demás usuarios a rx\n",
        "\n",
        "chmod 766 file: establece propietario a rwx y todos los demás usuarios a rw\n",
        "\n",
        "chmod 644 file: establece propietario a rw y todos los demás usuarios a r\n",
        "\n",
        "chmod +x file: hace que el archivo sea ejecutable para todos los usuarios\n",
        "\n",
        "chown user file: cambia el propietario del archivo a usuario\n",
        "\n",
        "Comandos de compresión\n",
        "\n",
        "tar -cf file.tar files: crea un archivo tar llamado file.tar que contiene archivos\n",
        "\n",
        "tar -xf file.tar: extrae los archivos de file.tar\n",
        "\n",
        "tar -czf file.tar.gz files: crea un archivo tar con compresión Gzip\n",
        "\n",
        "tar -xzf file.tar.gz: extrae un archivo tar usando Gzip\n",
        "\n",
        "tar -cjf file.tar.bz2 files: crea un archivo tar con compresión Bzip2\n",
        "\n",
        "tar -xjf file.tar.bz2: extrae un archivo tar usando Bzip2\n",
        "\n",
        "gzip file: comprime el archivo y lo renombra como file.gz\n",
        "\n",
        "gzip -d file.gz: descomprime file.gz de vuelta a file\n",
        "\n",
        "Comandos de proceso\n",
        "\n",
        "ps -e: instantánea de procesos\n",
        "\n",
        "top: muestra procesos en tiempo real\n",
        "\n",
        "kill pid: mata procesos con id pid\n",
        "\n",
        "pkill name: mata procesos con nombre\n",
        "\n",
        "killall name: mata todos los procesos con el nombre\n",
        "\n",
        "Comandos de búsqueda\n",
        "\n",
        "grep pattern files: busca patrones en archivos\n",
        "\n",
        "grep -r pattern dir: busca patrones en dir\n",
        "\n",
        "find dir -name “pattern“: encuentra todos los archivos con patrones en el nombre en dir\n",
        "\n",
        "Comandos de tubería\n",
        "\n",
        "cmd > file: redirige la salida estándar (stdout) de cmd a file\n",
        "\n",
        "cmd 2> file: redirige el error estándar (stderr) de cmd a file\n",
        "\n",
        "cmd &> file: redirige el stdout y stderr de un cmd a file\n",
        "\n",
        "cmd >> file: redirige el stdout de cmd a file y lo agrega al archivo si existe\n",
        "\n",
        "cmd > /dev/null: descarta el stdout de cmd\n",
        "\n",
        "cmd < file: redirige el contenido del archivo al input estándar (stdin) de cmd\n",
        "\n",
        "cmd <(cmd1): redirige el stdout de cmd1 a través de un archivo a cmd (útil si cmd toma un input de archivo)\n",
        "\n",
        "cmd1 | cmd2: redirige el stdout de cmd1 al stdin de cmd2\n",
        "\n",
        "xargs cmd: lee datos de stdin y ejecuta cmd una o más veces según la entrada\n",
        "\n",
        "Otros comandos útiles\n",
        "\n",
        "Contar el número de líneas únicas en un archivo\n",
        "\n",
        "cat file.txt | sort -u | wc -l\n",
        "\n",
        "Encuentra todos los archivos con \"ensamblaje\" en el nombre y los copia en un solo archivo assembly.txt\n",
        "\n",
        "find . -name \"assembly\" | xargs cat > assembly.txt\n",
        "\n",
        "Copiar todos los archivos \".fastq.gz\" de dir1 a dir2\n",
        "\n",
        "cp find dir1 -name \"*.fastq.gz\" dir2\n",
        "\n",
        "Dividir un archivo multi fasta en archivos fasta individuales\n",
        "\n",
        "awk '/^>/{s=++d\".fa\"} {print > s}' multi.fa\n",
        "\n",
        "Convertir un archivo fastq a fasta\n",
        "\n",
        "sed -n '1~4s/^@/>/p;2~4p' file.fq > file.fa\n",
        "\n",
        "Calcular la longitud media de las lecturas en un archivo fastq\n",
        "\n",
        "awk 'NR%4==2{sum+=length($0)}END{print sum/(NR/4)}' input.fastq crear una copia de seguridad de los archivos aquí todos los archivos .txt se copian como .bak\n",
        "\n",
        "find . -name \".txt\" | sed \"s/\\.txt$//\" | xargs -i echo mv {}.txt {}.bak | sh*"
      ]
    },
    {
      "cell_type": "markdown",
      "metadata": {},
      "source": [
        "## Referencias \n",
        "\n",
        "https://github.com/stephenturner/oneliners\n",
        "\n",
        "https://staphb.org/resources/2019-10-4-linux_cheatsheet.html\n"
      ]
    },
    {
      "cell_type": "markdown",
      "metadata": {},
      "source": [
        "*Adaptado de:*\n",
        "\n",
        "- Advanced Bioinformatics Course developed for the GPS and JUNO projects - Wellcome Sanger Insitute\n",
        "- SARS-CoV-2 Bioinformatics for Beginners Course - Wellcome Connecting Science\n",
        "\n",
        "*Modificado por Luisa Sacristán (Universidad de los Andes-CABANA)*"
      ]
    }
  ],
  "metadata": {
    "colab": {
      "collapsed_sections": [],
      "provenance": []
    },
    "kernelspec": {
      "display_name": "Python 3",
      "name": "python3"
    },
    "language_info": {
      "name": "python"
    }
  },
  "nbformat": 4,
  "nbformat_minor": 0
}
